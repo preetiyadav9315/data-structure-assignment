{
  "nbformat": 4,
  "nbformat_minor": 0,
  "metadata": {
    "colab": {
      "provenance": []
    },
    "kernelspec": {
      "name": "python3",
      "display_name": "Python 3"
    },
    "language_info": {
      "name": "python"
    }
  },
  "cells": [
    {
      "cell_type": "code",
      "execution_count": null,
      "metadata": {
        "id": "1Cs3DSXOnxYM"
      },
      "outputs": [],
      "source": []
    },
    {
      "cell_type": "markdown",
      "source": [
        "# **Data types and structures questions**\n",
        "\n",
        "---\n",
        "\n",
        "\n",
        "\n"
      ],
      "metadata": {
        "id": "2BGGECdkn9-m"
      }
    },
    {
      "cell_type": "markdown",
      "source": [
        "## 1.What are data structures and why are they important ?\n",
        "\n",
        " -  Data structure is a way of organizing and sorting data so that it can be accessed and manupilated efficiently.\n",
        " - Data structures - strings , lists , set , tuples , dictionary , array\n",
        " - They are important because they provide organized ways to store and manage data , enabling efficient algorithms and memory usage."
      ],
      "metadata": {
        "id": "-I6YfJAfo1wE"
      }
    },
    {
      "cell_type": "markdown",
      "source": [
        "##2. Explain the difference between mutable and immutable data tyoes with examples.\n",
        " -  Mutable data types : objects whose values can be changed after they are created\n",
        "  -  lists , dictionaries , sets"
      ],
      "metadata": {
        "id": "mKHbNDeeq41F"
      }
    },
    {
      "cell_type": "code",
      "source": [
        "# list\n",
        "list=[1,2,3,4]\n",
        "list"
      ],
      "metadata": {
        "colab": {
          "base_uri": "https://localhost:8080/"
        },
        "id": "P3CVgsvdvDov",
        "outputId": "5bc14099-dcbf-4ec2-cd87-b8184ee6b6e7"
      },
      "execution_count": null,
      "outputs": [
        {
          "output_type": "execute_result",
          "data": {
            "text/plain": [
              "[1, 2, 3, 4]"
            ]
          },
          "metadata": {},
          "execution_count": 10
        }
      ]
    },
    {
      "cell_type": "code",
      "source": [
        "list[0]=\"100\""
      ],
      "metadata": {
        "id": "HqVCNKmfvUJr"
      },
      "execution_count": null,
      "outputs": []
    },
    {
      "cell_type": "code",
      "source": [
        "list"
      ],
      "metadata": {
        "colab": {
          "base_uri": "https://localhost:8080/"
        },
        "id": "MHLdwwHSw0yb",
        "outputId": "0c97d475-9bf4-4d97-fba6-0bdc4089935e"
      },
      "execution_count": null,
      "outputs": [
        {
          "output_type": "execute_result",
          "data": {
            "text/plain": [
              "['100', 2, 3, 4]"
            ]
          },
          "metadata": {},
          "execution_count": 12
        }
      ]
    },
    {
      "cell_type": "code",
      "source": [
        "#dictionaries\n",
        "d={\"name\":\"ajay\",\"email\":\"aj@gmail.com\",\"address\":123}\n",
        "d"
      ],
      "metadata": {
        "colab": {
          "base_uri": "https://localhost:8080/"
        },
        "id": "VjSxA1B7w5Bn",
        "outputId": "e6704d0d-0825-4d1f-934b-6cb79a71e32b"
      },
      "execution_count": null,
      "outputs": [
        {
          "output_type": "execute_result",
          "data": {
            "text/plain": [
              "{'name': 'ajay', 'email': 'aj@gmail.com', 'address': 123}"
            ]
          },
          "metadata": {},
          "execution_count": 18
        }
      ]
    },
    {
      "cell_type": "code",
      "source": [
        "d['name']=\"bijay\"\n",
        "d\n"
      ],
      "metadata": {
        "colab": {
          "base_uri": "https://localhost:8080/"
        },
        "id": "eB9DNEc5xvva",
        "outputId": "85b64001-25d7-4df6-89e8-3598004af8bf"
      },
      "execution_count": null,
      "outputs": [
        {
          "output_type": "execute_result",
          "data": {
            "text/plain": [
              "{'name': 'bijay', 'email': 'aj@gmail.com', 'address': 123}"
            ]
          },
          "metadata": {},
          "execution_count": 21
        }
      ]
    },
    {
      "cell_type": "code",
      "source": [],
      "metadata": {
        "id": "G7unj-KXzAit"
      },
      "execution_count": null,
      "outputs": []
    },
    {
      "cell_type": "code",
      "source": [
        "#sets\n",
        "a={100,200,300}\n",
        "a"
      ],
      "metadata": {
        "colab": {
          "base_uri": "https://localhost:8080/"
        },
        "id": "XbdUlNI8zNtv",
        "outputId": "837d7b45-c35b-4dd2-efdb-c1cf817705f2"
      },
      "execution_count": null,
      "outputs": [
        {
          "output_type": "execute_result",
          "data": {
            "text/plain": [
              "{100, 200, 300}"
            ]
          },
          "metadata": {},
          "execution_count": 26
        }
      ]
    },
    {
      "cell_type": "code",
      "source": [
        "a.add(500)\n",
        "a"
      ],
      "metadata": {
        "colab": {
          "base_uri": "https://localhost:8080/"
        },
        "id": "ZClG4kSJzY_g",
        "outputId": "9928e224-b4bd-42aa-b005-6f8f46f04bdd"
      },
      "execution_count": null,
      "outputs": [
        {
          "output_type": "execute_result",
          "data": {
            "text/plain": [
              "{100, 200, 300, 500}"
            ]
          },
          "metadata": {},
          "execution_count": 28
        }
      ]
    },
    {
      "cell_type": "markdown",
      "source": [
        " -  Immutable data types: objects whose values cannot be changed once they are created\n",
        "   -  string , tuples"
      ],
      "metadata": {
        "id": "KQygkAmL0QI8"
      }
    },
    {
      "cell_type": "markdown",
      "source": [],
      "metadata": {
        "id": "6WRpbN8QoyLq"
      }
    },
    {
      "cell_type": "code",
      "source": [
        "#strings\n",
        "my_string=\"hello world\"\n",
        "my_string[0]='j'"
      ],
      "metadata": {
        "colab": {
          "base_uri": "https://localhost:8080/",
          "height": 176
        },
        "id": "LeTOHr740xDx",
        "outputId": "395f2ef1-8be8-4853-f2d5-813eb6d64902"
      },
      "execution_count": null,
      "outputs": [
        {
          "output_type": "error",
          "ename": "TypeError",
          "evalue": "'str' object does not support item assignment",
          "traceback": [
            "\u001b[0;31m---------------------------------------------------------------------------\u001b[0m",
            "\u001b[0;31mTypeError\u001b[0m                                 Traceback (most recent call last)",
            "\u001b[0;32m<ipython-input-29-7dae8c5eda1d>\u001b[0m in \u001b[0;36m<cell line: 0>\u001b[0;34m()\u001b[0m\n\u001b[1;32m      1\u001b[0m \u001b[0;31m#strings\u001b[0m\u001b[0;34m\u001b[0m\u001b[0;34m\u001b[0m\u001b[0m\n\u001b[1;32m      2\u001b[0m \u001b[0mmy_string\u001b[0m\u001b[0;34m=\u001b[0m\u001b[0;34m\"hello world\"\u001b[0m\u001b[0;34m\u001b[0m\u001b[0;34m\u001b[0m\u001b[0m\n\u001b[0;32m----> 3\u001b[0;31m \u001b[0mmy_string\u001b[0m\u001b[0;34m[\u001b[0m\u001b[0;36m0\u001b[0m\u001b[0;34m]\u001b[0m\u001b[0;34m=\u001b[0m\u001b[0;34m'j'\u001b[0m\u001b[0;34m\u001b[0m\u001b[0;34m\u001b[0m\u001b[0m\n\u001b[0m",
            "\u001b[0;31mTypeError\u001b[0m: 'str' object does not support item assignment"
          ]
        }
      ]
    },
    {
      "cell_type": "code",
      "source": [
        "# tuples\n",
        "my_tuple=(1,2,3)\n",
        "my_tuple[0]=4"
      ],
      "metadata": {
        "colab": {
          "base_uri": "https://localhost:8080/",
          "height": 176
        },
        "id": "e48-Usjf1Wd2",
        "outputId": "407c074c-139c-4ed1-bb8c-48789d3dd85b"
      },
      "execution_count": null,
      "outputs": [
        {
          "output_type": "error",
          "ename": "TypeError",
          "evalue": "'tuple' object does not support item assignment",
          "traceback": [
            "\u001b[0;31m---------------------------------------------------------------------------\u001b[0m",
            "\u001b[0;31mTypeError\u001b[0m                                 Traceback (most recent call last)",
            "\u001b[0;32m<ipython-input-30-700bdd326801>\u001b[0m in \u001b[0;36m<cell line: 0>\u001b[0;34m()\u001b[0m\n\u001b[1;32m      1\u001b[0m \u001b[0;31m# tuples\u001b[0m\u001b[0;34m\u001b[0m\u001b[0;34m\u001b[0m\u001b[0m\n\u001b[1;32m      2\u001b[0m \u001b[0mmy_tuple\u001b[0m\u001b[0;34m=\u001b[0m\u001b[0;34m(\u001b[0m\u001b[0;36m1\u001b[0m\u001b[0;34m,\u001b[0m\u001b[0;36m2\u001b[0m\u001b[0;34m,\u001b[0m\u001b[0;36m3\u001b[0m\u001b[0;34m)\u001b[0m\u001b[0;34m\u001b[0m\u001b[0;34m\u001b[0m\u001b[0m\n\u001b[0;32m----> 3\u001b[0;31m \u001b[0mmy_tuple\u001b[0m\u001b[0;34m[\u001b[0m\u001b[0;36m0\u001b[0m\u001b[0;34m]\u001b[0m\u001b[0;34m=\u001b[0m\u001b[0;36m4\u001b[0m\u001b[0;34m\u001b[0m\u001b[0;34m\u001b[0m\u001b[0m\n\u001b[0m",
            "\u001b[0;31mTypeError\u001b[0m: 'tuple' object does not support item assignment"
          ]
        }
      ]
    },
    {
      "cell_type": "markdown",
      "source": [
        "##3.What are the main diffrences between lists and tuples in pyhton?\n",
        " -  List - lists are ordered collection of items.\n",
        " -   feature [ ] .\n",
        " -  can store any datatype\n",
        " -  lists are mutable.\n",
        " -  stores heterogeneous data ."
      ],
      "metadata": {
        "id": "7XVvardx1l8i"
      }
    },
    {
      "cell_type": "code",
      "source": [
        "#lists\n",
        "grocery_list=[\"milk\",\"orange\",1,2.2,\"true\",3+5j]\n",
        "type(grocery_list)"
      ],
      "metadata": {
        "colab": {
          "base_uri": "https://localhost:8080/"
        },
        "id": "4c_SXFGkDxnh",
        "outputId": "06646bd0-dde3-4420-f3c3-1811f35010fb"
      },
      "execution_count": null,
      "outputs": [
        {
          "output_type": "execute_result",
          "data": {
            "text/plain": [
              "list"
            ]
          },
          "metadata": {},
          "execution_count": 3
        }
      ]
    },
    {
      "cell_type": "markdown",
      "source": [
        "  -  tuples - tuples are ordered collection of items .\n",
        "  -  feature ( ) .\n",
        "  -  can store any datatype .\n",
        "  -  lists are immutable .\n",
        "  -  stores hetrogenous data .\n",
        "  "
      ],
      "metadata": {
        "id": "czhRzeW0E34c"
      }
    },
    {
      "cell_type": "code",
      "source": [
        "#tuples\n",
        "t=(\"pwskills\",\"ajay\",2,2.3,\"ture\",3+5j)\n",
        "type(t)"
      ],
      "metadata": {
        "colab": {
          "base_uri": "https://localhost:8080/"
        },
        "id": "ltXW6JSYH91J",
        "outputId": "ec83b111-c761-48d1-f7f4-9b57612b542d"
      },
      "execution_count": null,
      "outputs": [
        {
          "output_type": "execute_result",
          "data": {
            "text/plain": [
              "tuple"
            ]
          },
          "metadata": {},
          "execution_count": 4
        }
      ]
    },
    {
      "cell_type": "markdown",
      "source": [
        "##4. Describe how dictionaries stores data.\n",
        "  -  Dictionaries stores data in key and value pairs.\n",
        "  "
      ],
      "metadata": {
        "id": "e-_uWpk2Im-b"
      }
    },
    {
      "cell_type": "code",
      "source": [
        "d={\"name\":\"ajay\",\"email\":\"aj@gmail.com\",\"contact\":1234}\n",
        "type(d)"
      ],
      "metadata": {
        "colab": {
          "base_uri": "https://localhost:8080/"
        },
        "id": "1x7z1EY_NOH8",
        "outputId": "35170336-a687-4b10-c7a1-199137f6c720"
      },
      "execution_count": null,
      "outputs": [
        {
          "output_type": "execute_result",
          "data": {
            "text/plain": [
              "dict"
            ]
          },
          "metadata": {},
          "execution_count": 9
        }
      ]
    },
    {
      "cell_type": "markdown",
      "source": [
        "##5.Why might you use a set instead of a list in python?\n",
        "  -  A set might be preferred over a list in pyhton for it's ability to store data with unique elements and efficient membership testing capabilities. sets automatically remove and eliminate duplicate data and entries, ensuring that each element is unique ."
      ],
      "metadata": {
        "id": "Tu0fux6wOR3w"
      }
    },
    {
      "cell_type": "markdown",
      "source": [],
      "metadata": {
        "id": "m8fpynkS2EcC"
      }
    },
    {
      "cell_type": "markdown",
      "source": [
        "##6. What is a string in python , how is it different from a list ?\n",
        "  -  A  is a sequence of characters where character is a unit of text between single or double unit qoutes , which is helpful to represent and manipulate textual data in programming language . a list a sequence of items where each item could be a string , integer, boolean , float , etc.  "
      ],
      "metadata": {
        "id": "zVxRXQUnP3IE"
      }
    },
    {
      "cell_type": "markdown",
      "source": [
        "##7. How do tuples ensure data integrity in python?\n",
        "  -  Tuples help  to ensure data integrity in Python through immutability to ensure that thier contents remain constant through thier life ."
      ],
      "metadata": {
        "id": "hIJgkHQgUZqc"
      }
    },
    {
      "cell_type": "markdown",
      "source": [
        "##8. What is a hash table , and how does it relate to dictionaries in python?\n",
        "  -  A hash table is a data structure that stores key-value pairs. It uses a hash function to compute an index into buckets or slots, from which the desired value can be found. In Python, a dictionary (dict) is an implementation of a hash table."
      ],
      "metadata": {
        "id": "sXgjN6RBVfRm"
      }
    },
    {
      "cell_type": "markdown",
      "source": [
        "##9. Can lists can contain different data types in pyhton ?\n",
        "  -  yes, lists can contain heterogeneous data that are of diffrent types of elements such as strings , integers , floats , boolean and other complex data types ."
      ],
      "metadata": {
        "id": "4clvG6dVXaUd"
      }
    },
    {
      "cell_type": "code",
      "source": [
        "t=[\"pwskills\",\"ajay\",2,2.3,\"ture\",3+5j]\n",
        "print(t)"
      ],
      "metadata": {
        "colab": {
          "base_uri": "https://localhost:8080/"
        },
        "id": "Lh3m-NZWYK_V",
        "outputId": "c442f2dd-3162-42b4-873c-07155d060e71"
      },
      "execution_count": null,
      "outputs": [
        {
          "output_type": "stream",
          "name": "stdout",
          "text": [
            "['pwskills', 'ajay', 2, 2.3, 'ture', (3+5j)]\n"
          ]
        }
      ]
    },
    {
      "cell_type": "markdown",
      "source": [
        "##10. Explain why strings are immutable in python .\n",
        "  -  Strings in Python are immutable, means once a string is created, they cannot be changed. use cases like adhar card info, it should be not changable after once the details of a person have been entered."
      ],
      "metadata": {
        "id": "ft9ZzsEHZBwA"
      }
    },
    {
      "cell_type": "markdown",
      "source": [
        "##11. What advantages do dictionaries offer over lists for certain tasks?\n",
        "  -  dictionaries stores data in the form of key and value pairs  . it is used when you need fast access to elements by a unique identifier (like a username, ID, etc.).\n",
        "  \n",
        "  In a list, you access elements by numeric index (my_list[0]), which may not be very descriptive.\n",
        "\n",
        "In a dictionary, you use keys that can be descriptive (my_dict[\"username\"]), making the code more readable."
      ],
      "metadata": {
        "id": "zmJFe4oLbc5B"
      }
    },
    {
      "cell_type": "markdown",
      "source": [
        "##12. Describe a scenario where using a tuple would be preferable over a list.\n",
        "  - A tuple is prefered over a list in scenarios where immutability and performance are important. If you expect to add, remove, or modify the collection after creation (e.g., a to-do list or shopping cart), a list would be more appropriate.\n",
        "\n"
      ],
      "metadata": {
        "id": "KzBMu4t0e-4z"
      }
    },
    {
      "cell_type": "markdown",
      "source": [
        "##13. How do sets handle duplicate values in Python?\n",
        "  -   A set is an unordered collection of unique elements. it aumatically removes any duplicate values from the data"
      ],
      "metadata": {
        "id": "0HWgz4ShfqQl"
      }
    },
    {
      "cell_type": "code",
      "source": [
        "my_set = {1, 2, 2, 3, 6, 6, 5}\n",
        "print(my_set)\n"
      ],
      "metadata": {
        "colab": {
          "base_uri": "https://localhost:8080/"
        },
        "id": "NGwQbZbagcoz",
        "outputId": "1d34a8a0-e72c-4c1a-fdf6-b9ee29b4cc05"
      },
      "execution_count": null,
      "outputs": [
        {
          "output_type": "stream",
          "name": "stdout",
          "text": [
            "{1, 2, 3, 5, 6}\n"
          ]
        }
      ]
    },
    {
      "cell_type": "markdown",
      "source": [
        "##14.  How does the \"in\" keyword work differently for lists and dictionaries?\n",
        "  -  In list , in function is used to check wheather the element is present in the list or not .  "
      ],
      "metadata": {
        "id": "WYgwepEbgj-t"
      }
    },
    {
      "cell_type": "code",
      "source": [
        "fruits = ['apple', 'banana', 'cherry']\n",
        "print('banana' in fruits)\n",
        "\n"
      ],
      "metadata": {
        "colab": {
          "base_uri": "https://localhost:8080/"
        },
        "id": "wJwbe6jHhVW0",
        "outputId": "780f4160-516f-4ead-c12c-6a2e6816b8b5"
      },
      "execution_count": null,
      "outputs": [
        {
          "output_type": "stream",
          "name": "stdout",
          "text": [
            "True\n"
          ]
        }
      ]
    },
    {
      "cell_type": "markdown",
      "source": [
        "  -  in dictionaries it checks whether a value is present as a key in the dictionary — not the values."
      ],
      "metadata": {
        "id": "FGQyv9Exhd8C"
      }
    },
    {
      "cell_type": "code",
      "source": [
        "person = {'name': 'priya', 'age': 30, 'contact':5934}\n",
        "print('name' in person)\n"
      ],
      "metadata": {
        "colab": {
          "base_uri": "https://localhost:8080/"
        },
        "id": "iLsNX-1bhusY",
        "outputId": "22502895-c33b-4124-d2ed-c9bfaffb2ff4"
      },
      "execution_count": null,
      "outputs": [
        {
          "output_type": "stream",
          "name": "stdout",
          "text": [
            "True\n"
          ]
        }
      ]
    },
    {
      "cell_type": "markdown",
      "source": [
        "##15. Can you modify the elements of a tuple? Explain why or why not.\n",
        "  -  No, we cannot modify the elements of a tuple in Python. This is because tuples are immutable which means once a tuple is created, its elements cannot be changed, added to, or removed."
      ],
      "metadata": {
        "id": "fbhO-6nbiDAn"
      }
    },
    {
      "cell_type": "code",
      "source": [
        " t=(2,2.3, 4,5)\n",
        " type(t)"
      ],
      "metadata": {
        "colab": {
          "base_uri": "https://localhost:8080/"
        },
        "id": "_h6btjHYioiB",
        "outputId": "4c15d88c-b45c-49ca-bfff-2275a1b14c16"
      },
      "execution_count": null,
      "outputs": [
        {
          "output_type": "execute_result",
          "data": {
            "text/plain": [
              "tuple"
            ]
          },
          "metadata": {},
          "execution_count": 20
        }
      ]
    },
    {
      "cell_type": "code",
      "source": [
        "t[0]=100"
      ],
      "metadata": {
        "colab": {
          "base_uri": "https://localhost:8080/",
          "height": 141
        },
        "id": "27eufTqzjFsN",
        "outputId": "f3d7cc28-a680-4dea-d430-8fec7cff4814"
      },
      "execution_count": null,
      "outputs": [
        {
          "output_type": "error",
          "ename": "TypeError",
          "evalue": "'tuple' object does not support item assignment",
          "traceback": [
            "\u001b[0;31m---------------------------------------------------------------------------\u001b[0m",
            "\u001b[0;31mTypeError\u001b[0m                                 Traceback (most recent call last)",
            "\u001b[0;32m<ipython-input-21-3382f43ca263>\u001b[0m in \u001b[0;36m<cell line: 0>\u001b[0;34m()\u001b[0m\n\u001b[0;32m----> 1\u001b[0;31m \u001b[0mt\u001b[0m\u001b[0;34m[\u001b[0m\u001b[0;36m0\u001b[0m\u001b[0;34m]\u001b[0m\u001b[0;34m=\u001b[0m\u001b[0;36m100\u001b[0m\u001b[0;34m\u001b[0m\u001b[0;34m\u001b[0m\u001b[0m\n\u001b[0m",
            "\u001b[0;31mTypeError\u001b[0m: 'tuple' object does not support item assignment"
          ]
        }
      ]
    },
    {
      "cell_type": "markdown",
      "source": [
        "##16.What is a nested dictionary, and give an example of its use case?\n",
        "  - A nested dictionary = a dictionary inside another dictionary\n"
      ],
      "metadata": {
        "id": "7gKMGtHDii6b"
      }
    },
    {
      "cell_type": "code",
      "source": [
        "nested_dict = {\n",
        "    \"employee1\": {\"name\": \"Ajay\", \"age\": 30},\n",
        "    \"employee2\": {\"name\": \"bijay\", \"age\": 25}\n",
        "}\n"
      ],
      "metadata": {
        "id": "0zzbCoAMoYd-"
      },
      "execution_count": null,
      "outputs": []
    },
    {
      "cell_type": "code",
      "source": [
        "# use case\n",
        "restaurant_menu = {\n",
        "    'Dish1': {'name': 'Pasta Carbonara', 'price': 15.99, 'description': 'Creamy pasta with bacon and parmesan'},\n",
        "    'Dish2': {'name': 'Chicken Caesar Salad', 'price': 12.50, 'description': 'Grilled chicken with romaine lettuce and Caesar dressing'},\n",
        "    'Dish3': {'name': 'Margherita Pizza', 'price': 14.00, 'description': 'Pizza topped with tomato, mozzarella, and basil'}\n",
        "}\n",
        "restaurant_menu[\"Dish1\"]\n"
      ],
      "metadata": {
        "colab": {
          "base_uri": "https://localhost:8080/"
        },
        "id": "y2_kiU6nozJ1",
        "outputId": "dcc3ed35-6ab7-4399-c924-ca29b2389c8c"
      },
      "execution_count": null,
      "outputs": [
        {
          "output_type": "execute_result",
          "data": {
            "text/plain": [
              "{'name': 'Pasta Carbonara',\n",
              " 'price': 15.99,\n",
              " 'description': 'Creamy pasta with bacon and parmesan'}"
            ]
          },
          "metadata": {},
          "execution_count": 26
        }
      ]
    },
    {
      "cell_type": "markdown",
      "source": [
        "##17. Describe the time complexity of accessing elements in a dictionary.\n",
        "  - it takes constant time to retrieve an element. This is because dictionaries use a hash table to store key-value pairs, and the hash function maps the key to a specific index, allowing for quick access.\n"
      ],
      "metadata": {
        "id": "PFg5Zmqbpoqh"
      }
    },
    {
      "cell_type": "markdown",
      "source": [
        "##18. In what situations are lists preferred over dictionaries?\n",
        "  - lists is an ordered collection of elements that can be of any type . it is mutable and contains heterogeneous data .\n",
        "  - dictionariesstructures stores data in the form of key and value pairs . keys are unique and immutable .  these are unordered but in python 3.7 they retain the order of insertion .\n",
        "  -  if you want a odered collection and want to maintain a stack or queue lists are more preferable . where if you want to store the value in the form of key value in which when you search for key its value will be pop up like in restraunt menu dictionaries atre preferred.\n"
      ],
      "metadata": {
        "id": "ZShKZWz0rgEo"
      }
    },
    {
      "cell_type": "markdown",
      "source": [
        "##19. Why are dictionaries considered unordered, and how does that affect the data retrieval?\n",
        "  - dictionaries are unordered because they do not inherent the order of the items based on when they were added. but in python 3.7 they retain the order of insertion . but in python 3.7 they retain the order od insertion .if the data is unordered You can't rely on the order of elements being consistent or predictable.You can't access items by position/index.The order of insertion isn't maintained.\n"
      ],
      "metadata": {
        "id": "c6aGNTM-aPpW"
      }
    },
    {
      "cell_type": "markdown",
      "source": [
        "##20. Explain the difference between in a list and a dictionary in terms of data retrieval.\n",
        "  - lists are ordered collection of data . you retrieve data in the list with the help of index position .\n"
      ],
      "metadata": {
        "id": "H8jh5aptcZgz"
      }
    },
    {
      "cell_type": "code",
      "source": [
        "my_list = ['apple', 'banana', 'orange']\n",
        "my_list[1]\n"
      ],
      "metadata": {
        "colab": {
          "base_uri": "https://localhost:8080/",
          "height": 36
        },
        "id": "JatMxE5RdPuD",
        "outputId": "b2c4f296-833c-4216-c28e-e4121b9f49ca"
      },
      "execution_count": 3,
      "outputs": [
        {
          "output_type": "execute_result",
          "data": {
            "text/plain": [
              "'banana'"
            ],
            "application/vnd.google.colaboratory.intrinsic+json": {
              "type": "string"
            }
          },
          "metadata": {},
          "execution_count": 3
        }
      ]
    },
    {
      "cell_type": "markdown",
      "source": [
        "  -  dictionaries are collection of key vlaue pairs. keys are used to access the data."
      ],
      "metadata": {
        "id": "yPj02ZsGdpxJ"
      }
    },
    {
      "cell_type": "code",
      "source": [
        "person = {'name':'priya', 'age': 30, 'contact':5934}\n",
        "person['name']"
      ],
      "metadata": {
        "colab": {
          "base_uri": "https://localhost:8080/",
          "height": 36
        },
        "id": "DtTOFL9GeHfT",
        "outputId": "4ab21adc-4c9e-4ec7-ba22-463b37620a7c"
      },
      "execution_count": 7,
      "outputs": [
        {
          "output_type": "execute_result",
          "data": {
            "text/plain": [
              "'priya'"
            ],
            "application/vnd.google.colaboratory.intrinsic+json": {
              "type": "string"
            }
          },
          "metadata": {},
          "execution_count": 7
        }
      ]
    },
    {
      "cell_type": "markdown",
      "source": [
        "# Practical questions:"
      ],
      "metadata": {
        "id": "SRGNzKbHektW"
      }
    },
    {
      "cell_type": "markdown",
      "source": [
        "##1. Write a code to create a string with your name and print it.\n"
      ],
      "metadata": {
        "id": "-YbS9pWweuix"
      }
    },
    {
      "cell_type": "code",
      "source": [
        "name=\"preeti\"\n",
        "type(name)"
      ],
      "metadata": {
        "colab": {
          "base_uri": "https://localhost:8080/"
        },
        "id": "EGSI8DRJfE7r",
        "outputId": "cfc44595-eb16-4bb0-90ea-68973ea484a6"
      },
      "execution_count": 8,
      "outputs": [
        {
          "output_type": "execute_result",
          "data": {
            "text/plain": [
              "str"
            ]
          },
          "metadata": {},
          "execution_count": 8
        }
      ]
    },
    {
      "cell_type": "code",
      "source": [
        "print(\"preeti\")"
      ],
      "metadata": {
        "colab": {
          "base_uri": "https://localhost:8080/"
        },
        "id": "9vftrxuTfTPl",
        "outputId": "8f359c77-a70c-4370-91e4-5e9e7b74f17f"
      },
      "execution_count": 9,
      "outputs": [
        {
          "output_type": "stream",
          "name": "stdout",
          "text": [
            "preeti\n"
          ]
        }
      ]
    },
    {
      "cell_type": "markdown",
      "source": [
        "##2. Write a code to find the length of the string \"Hello World\".\n"
      ],
      "metadata": {
        "id": "IwY0KEe7fY4P"
      }
    },
    {
      "cell_type": "code",
      "source": [
        "str1=\"Hello world\"\n",
        "len(str1)"
      ],
      "metadata": {
        "colab": {
          "base_uri": "https://localhost:8080/"
        },
        "id": "691U1pGvffce",
        "outputId": "5da3604e-b29c-4d98-fe44-31d09c92872e"
      },
      "execution_count": 10,
      "outputs": [
        {
          "output_type": "execute_result",
          "data": {
            "text/plain": [
              "11"
            ]
          },
          "metadata": {},
          "execution_count": 10
        }
      ]
    },
    {
      "cell_type": "markdown",
      "source": [
        "##3. Write a code to slice the first 3 characters from the string \"Python Programming\".\n",
        "\n"
      ],
      "metadata": {
        "id": "DP35NYRXfpwY"
      }
    },
    {
      "cell_type": "code",
      "source": [
        "str1=\"Python programming\"\n",
        "str1[0:3]"
      ],
      "metadata": {
        "colab": {
          "base_uri": "https://localhost:8080/",
          "height": 36
        },
        "id": "XnHKY7qEfvzS",
        "outputId": "3eddd136-b8e0-4a67-fd09-b86b1d62312e"
      },
      "execution_count": 12,
      "outputs": [
        {
          "output_type": "execute_result",
          "data": {
            "text/plain": [
              "'Pyt'"
            ],
            "application/vnd.google.colaboratory.intrinsic+json": {
              "type": "string"
            }
          },
          "metadata": {},
          "execution_count": 12
        }
      ]
    },
    {
      "cell_type": "markdown",
      "source": [
        "##4.Write a code to convert the string \"hello\" to uppercase.\n"
      ],
      "metadata": {
        "id": "w6m7Vb7rgLhl"
      }
    },
    {
      "cell_type": "code",
      "source": [
        "a=\"hello\"\n",
        "a.upper()"
      ],
      "metadata": {
        "colab": {
          "base_uri": "https://localhost:8080/",
          "height": 36
        },
        "id": "U95nwDRTgRkA",
        "outputId": "2784c693-ce7d-4834-cb19-a7eca1ebf567"
      },
      "execution_count": 13,
      "outputs": [
        {
          "output_type": "execute_result",
          "data": {
            "text/plain": [
              "'HELLO'"
            ],
            "application/vnd.google.colaboratory.intrinsic+json": {
              "type": "string"
            }
          },
          "metadata": {},
          "execution_count": 13
        }
      ]
    },
    {
      "cell_type": "markdown",
      "source": [
        "##5.Write a code to replace the word \"apple\" with \"orange\" in the string \"I like apple\".\n"
      ],
      "metadata": {
        "id": "WtzJGZL3gc6u"
      }
    },
    {
      "cell_type": "code",
      "source": [
        "str=\"i like apple\"\n",
        "str.replace(\"apple\",\"orange\")\n"
      ],
      "metadata": {
        "colab": {
          "base_uri": "https://localhost:8080/",
          "height": 36
        },
        "id": "6Tc8nOoCgitw",
        "outputId": "ba896a5e-bcc0-47eb-baba-8bee43c01496"
      },
      "execution_count": 14,
      "outputs": [
        {
          "output_type": "execute_result",
          "data": {
            "text/plain": [
              "'i like orange'"
            ],
            "application/vnd.google.colaboratory.intrinsic+json": {
              "type": "string"
            }
          },
          "metadata": {},
          "execution_count": 14
        }
      ]
    },
    {
      "cell_type": "markdown",
      "source": [
        "##6.Write a code to create a list with numbers 1 to 5 and print it.\n"
      ],
      "metadata": {
        "id": "qEfbJUV-g5jX"
      }
    },
    {
      "cell_type": "code",
      "source": [
        "list=[1,2,3,4,5]\n",
        "print(list)"
      ],
      "metadata": {
        "colab": {
          "base_uri": "https://localhost:8080/"
        },
        "id": "qVLL2fULg93s",
        "outputId": "5ad693aa-eae6-4643-f7a5-ef146d61745b"
      },
      "execution_count": 15,
      "outputs": [
        {
          "output_type": "stream",
          "name": "stdout",
          "text": [
            "[1, 2, 3, 4, 5]\n"
          ]
        }
      ]
    },
    {
      "cell_type": "markdown",
      "source": [
        "##7.Write a code to append the number 10 to the list (1, 2, 3, 4].\n",
        "\n"
      ],
      "metadata": {
        "id": "inSQyVMwhRMu"
      }
    },
    {
      "cell_type": "code",
      "source": [
        "list1=[1,2,3,4]\n",
        "list1.append(10)\n",
        "print(list1)"
      ],
      "metadata": {
        "colab": {
          "base_uri": "https://localhost:8080/"
        },
        "id": "7px9xUTNhViU",
        "outputId": "cb626425-dd6a-4636-a83f-5357ebca5037"
      },
      "execution_count": 29,
      "outputs": [
        {
          "output_type": "stream",
          "name": "stdout",
          "text": [
            "[1, 2, 3, 4, 10]\n"
          ]
        }
      ]
    },
    {
      "cell_type": "markdown",
      "source": [
        "##8.Write a code to remove the number 3 from the list [1, 2, 3, 4, 5].\n"
      ],
      "metadata": {
        "id": "fhuLApxuisf0"
      }
    },
    {
      "cell_type": "code",
      "source": [
        "a=[1,2,3,4,5]\n",
        "a.remove(3)\n",
        "print(a)"
      ],
      "metadata": {
        "colab": {
          "base_uri": "https://localhost:8080/"
        },
        "id": "xjp3uO9oixel",
        "outputId": "27ab14f8-90b4-4f5a-968a-b5ec9d238278"
      },
      "execution_count": 30,
      "outputs": [
        {
          "output_type": "stream",
          "name": "stdout",
          "text": [
            "[1, 2, 4, 5]\n"
          ]
        }
      ]
    },
    {
      "cell_type": "markdown",
      "source": [
        "##9.Write a code to access the second element in the list ['a', 'b', 'c', 'd].\n"
      ],
      "metadata": {
        "id": "R1TUTSsUi8qZ"
      }
    },
    {
      "cell_type": "code",
      "source": [
        "lis=['a','b','c','d']\n",
        "lis[1]"
      ],
      "metadata": {
        "colab": {
          "base_uri": "https://localhost:8080/",
          "height": 36
        },
        "id": "w7sa05sMjBjJ",
        "outputId": "9a08eddb-7f3d-4211-a921-804b4e29e3da"
      },
      "execution_count": 32,
      "outputs": [
        {
          "output_type": "execute_result",
          "data": {
            "text/plain": [
              "'b'"
            ],
            "application/vnd.google.colaboratory.intrinsic+json": {
              "type": "string"
            }
          },
          "metadata": {},
          "execution_count": 32
        }
      ]
    },
    {
      "cell_type": "markdown",
      "source": [
        "##10.Write a code to reverse the list [10, 20, 30, 40, 50]."
      ],
      "metadata": {
        "id": "_TXW6fGejWsO"
      }
    },
    {
      "cell_type": "code",
      "source": [
        "list=[10,20,30,40,50]\n",
        "list.reverse()\n",
        "print(list)"
      ],
      "metadata": {
        "colab": {
          "base_uri": "https://localhost:8080/"
        },
        "id": "rpo-2-UBjeHm",
        "outputId": "be835210-adcc-4f5e-b6e6-b1b504f331cb"
      },
      "execution_count": 34,
      "outputs": [
        {
          "output_type": "stream",
          "name": "stdout",
          "text": [
            "[50, 40, 30, 20, 10]\n"
          ]
        }
      ]
    },
    {
      "cell_type": "markdown",
      "source": [
        "##11. Write a code to create a tuple with the elements 100, 200, 300 and print it.\n",
        "\n"
      ],
      "metadata": {
        "id": "T516uUk5j_UJ"
      }
    },
    {
      "cell_type": "code",
      "source": [
        "tup=(100,200,300)\n",
        "print(tup)"
      ],
      "metadata": {
        "colab": {
          "base_uri": "https://localhost:8080/"
        },
        "id": "UG5cnUsSkZ8w",
        "outputId": "5b79dc3c-9718-41a7-8c02-a343a3595217"
      },
      "execution_count": 35,
      "outputs": [
        {
          "output_type": "stream",
          "name": "stdout",
          "text": [
            "(100, 200, 300)\n"
          ]
        }
      ]
    },
    {
      "cell_type": "markdown",
      "source": [
        "##12. write a code to access the second-to-last element of the tuple (red. 'green', 'blue', yellow).\n"
      ],
      "metadata": {
        "id": "mPh6Ntrbklhh"
      }
    },
    {
      "cell_type": "code",
      "source": [
        "tuple=(\"red\",\"green\",\"blue\",\"yellow\")\n",
        "tuple[2]\n"
      ],
      "metadata": {
        "colab": {
          "base_uri": "https://localhost:8080/",
          "height": 36
        },
        "id": "tfsAua3skqxc",
        "outputId": "fd1f2dc8-dd67-4b14-b87b-4f5e68b09a69"
      },
      "execution_count": 37,
      "outputs": [
        {
          "output_type": "execute_result",
          "data": {
            "text/plain": [
              "'blue'"
            ],
            "application/vnd.google.colaboratory.intrinsic+json": {
              "type": "string"
            }
          },
          "metadata": {},
          "execution_count": 37
        }
      ]
    },
    {
      "cell_type": "markdown",
      "source": [
        "##13.Write a code to find the minimum number in the tuple (10, 20, 5.15).\n"
      ],
      "metadata": {
        "id": "AmjrVv-ClJbI"
      }
    },
    {
      "cell_type": "code",
      "source": [
        "s=(10,20,5.15)\n",
        "min(s)"
      ],
      "metadata": {
        "colab": {
          "base_uri": "https://localhost:8080/"
        },
        "id": "WcV6H6BvlOkA",
        "outputId": "21d6432a-29b9-4688-d842-1e583c963a93"
      },
      "execution_count": 39,
      "outputs": [
        {
          "output_type": "execute_result",
          "data": {
            "text/plain": [
              "5.15"
            ]
          },
          "metadata": {},
          "execution_count": 39
        }
      ]
    },
    {
      "cell_type": "markdown",
      "source": [
        "##14.Write a code to find the index of the element 'cat' in the tuple (dog, cat, rabbit).\n"
      ],
      "metadata": {
        "id": "b32_uEoBlsxW"
      }
    },
    {
      "cell_type": "code",
      "source": [
        "tuple=(\"dog\",\"cat\",\"rabbit\")\n",
        "tuple[1]"
      ],
      "metadata": {
        "colab": {
          "base_uri": "https://localhost:8080/",
          "height": 36
        },
        "id": "HIPtRUP4lyCj",
        "outputId": "0a03c229-30bd-4cfc-8e8b-48e918e87da4"
      },
      "execution_count": 40,
      "outputs": [
        {
          "output_type": "execute_result",
          "data": {
            "text/plain": [
              "'cat'"
            ],
            "application/vnd.google.colaboratory.intrinsic+json": {
              "type": "string"
            }
          },
          "metadata": {},
          "execution_count": 40
        }
      ]
    },
    {
      "cell_type": "markdown",
      "source": [
        "##15.Write a code to create a tuple containing three different fruits and check if 'kiwi\" is in it.\n",
        "\n"
      ],
      "metadata": {
        "id": "3_I3bxPVl-fT"
      }
    },
    {
      "cell_type": "code",
      "source": [
        "fruits = ('apple', 'banana', 'orange')\n",
        "\n",
        "# Check if 'kiwi' is in the tuple\n",
        "if 'kiwi' in fruits:\n",
        "    print(\"Kiwi is in the tuple.\")\n",
        "else:\n",
        "    print(\"Kiwi is not in the tuple.\")\n"
      ],
      "metadata": {
        "colab": {
          "base_uri": "https://localhost:8080/"
        },
        "id": "V7CNvcUnmD6K",
        "outputId": "a0088fcd-3ddd-4a4f-b315-3a47beffa52f"
      },
      "execution_count": 41,
      "outputs": [
        {
          "output_type": "stream",
          "name": "stdout",
          "text": [
            "Kiwi is not in the tuple.\n"
          ]
        }
      ]
    },
    {
      "cell_type": "markdown",
      "source": [
        "##16. Write a code to create a set with the elements a, b, 'c' and print it.\n"
      ],
      "metadata": {
        "id": "zR2BHXhHmWtJ"
      }
    },
    {
      "cell_type": "code",
      "source": [
        "set={'a','b','c'}\n",
        "print(set)"
      ],
      "metadata": {
        "colab": {
          "base_uri": "https://localhost:8080/"
        },
        "id": "L4lQ-PEGmngd",
        "outputId": "421a99f8-6536-4545-b4c2-b1a29f3526de"
      },
      "execution_count": 42,
      "outputs": [
        {
          "output_type": "stream",
          "name": "stdout",
          "text": [
            "{'a', 'c', 'b'}\n"
          ]
        }
      ]
    },
    {
      "cell_type": "markdown",
      "source": [
        "##17.Write a code to clear all elements from the set (1, 2, 3,4,5).\n"
      ],
      "metadata": {
        "id": "Qy6JMAaWm29g"
      }
    },
    {
      "cell_type": "code",
      "source": [
        "st={1,2,3,4,5}\n",
        "st.clear()\n",
        "print(st)"
      ],
      "metadata": {
        "colab": {
          "base_uri": "https://localhost:8080/"
        },
        "id": "ud2MrNKHm-HO",
        "outputId": "3777de1d-def9-470f-ed20-8a9bccfef103"
      },
      "execution_count": 51,
      "outputs": [
        {
          "output_type": "stream",
          "name": "stdout",
          "text": [
            "set()\n"
          ]
        }
      ]
    },
    {
      "cell_type": "markdown",
      "source": [
        "##18.Write a code to remove the element 4 from the set (12,3,4).\n",
        "\n"
      ],
      "metadata": {
        "id": "7HzRS6UdoA3f"
      }
    },
    {
      "cell_type": "code",
      "source": [
        "set={1,2,3,4}\n",
        "set.remove(4)\n",
        "print(set)\n"
      ],
      "metadata": {
        "colab": {
          "base_uri": "https://localhost:8080/"
        },
        "id": "FPUGQKXroIQS",
        "outputId": "c8cd13bc-1ae9-4f8f-b418-3c4e775694f3"
      },
      "execution_count": 54,
      "outputs": [
        {
          "output_type": "stream",
          "name": "stdout",
          "text": [
            "{1, 2, 3}\n"
          ]
        }
      ]
    },
    {
      "cell_type": "markdown",
      "source": [
        "##19.Write a code to find the union of two sets (1, 2, 3) and (3, 4, 5).\n"
      ],
      "metadata": {
        "id": "aY-wz9pqofMV"
      }
    },
    {
      "cell_type": "code",
      "source": [
        "set1={1,2,3}\n",
        "set2={3,4,5}\n",
        "set1|set2"
      ],
      "metadata": {
        "colab": {
          "base_uri": "https://localhost:8080/"
        },
        "id": "Kx4ECO49oolI",
        "outputId": "3ffd7d4e-2283-43d8-b308-db24eaa58a24"
      },
      "execution_count": 56,
      "outputs": [
        {
          "output_type": "execute_result",
          "data": {
            "text/plain": [
              "{1, 2, 3, 4, 5}"
            ]
          },
          "metadata": {},
          "execution_count": 56
        }
      ]
    },
    {
      "cell_type": "markdown",
      "source": [
        "##20.Write a code to find the intersection of two sets (1, 2, 3) and (2,3,4).\n",
        "\n"
      ],
      "metadata": {
        "id": "2EmbF3lfpKRs"
      }
    },
    {
      "cell_type": "code",
      "source": [
        "s1={1,2,3}\n",
        "s2={2,3,4}\n",
        "s1&s2"
      ],
      "metadata": {
        "colab": {
          "base_uri": "https://localhost:8080/"
        },
        "id": "mIsxzN5RpUC-",
        "outputId": "fe97e592-9f09-4ac9-fa1c-c1f5d4a70bef"
      },
      "execution_count": 57,
      "outputs": [
        {
          "output_type": "execute_result",
          "data": {
            "text/plain": [
              "{2, 3}"
            ]
          },
          "metadata": {},
          "execution_count": 57
        }
      ]
    },
    {
      "cell_type": "markdown",
      "source": [
        "##21.Write a code to create a dictionary with the keys 'name', 'age\", and \"city\", and print it.\n",
        "\n"
      ],
      "metadata": {
        "id": "Kbi4rIXzplyf"
      }
    },
    {
      "cell_type": "code",
      "source": [
        "my_dict={\"name\":\"preeti\",\"age\":30,\"city\":\"gurgaon\"}\n",
        "print(my_dict)"
      ],
      "metadata": {
        "colab": {
          "base_uri": "https://localhost:8080/"
        },
        "id": "NNUkm1rupqqP",
        "outputId": "56e011d5-46c5-4eb6-9bf1-2be97a0917cf"
      },
      "execution_count": 58,
      "outputs": [
        {
          "output_type": "stream",
          "name": "stdout",
          "text": [
            "{'name': 'preeti', 'age': 30, 'city': 'gurgaon'}\n"
          ]
        }
      ]
    },
    {
      "cell_type": "markdown",
      "source": [
        "##22.Write a code to add a new key-value pair \"country\": \"USA\" to the dictionary ('name': 'John, age: 25).\n",
        "\n"
      ],
      "metadata": {
        "id": "4j5TQhccp-kt"
      }
    },
    {
      "cell_type": "code",
      "source": [
        "dict={\"name\":\"john\",\"age\":25}\n",
        "dict['country']='USA'\n",
        "print(dict)\n"
      ],
      "metadata": {
        "colab": {
          "base_uri": "https://localhost:8080/"
        },
        "id": "xeD3wSWGqCPP",
        "outputId": "9a389900-bc1d-420b-eb46-9138977f66c3"
      },
      "execution_count": 59,
      "outputs": [
        {
          "output_type": "stream",
          "name": "stdout",
          "text": [
            "{'name': 'john', 'age': 25, 'country': 'USA'}\n"
          ]
        }
      ]
    },
    {
      "cell_type": "markdown",
      "source": [
        "##23.Write a code to access the value associated with the key \"name\" in the dictionary ['name': 'Alice', 'age: 30).\n",
        "\n"
      ],
      "metadata": {
        "id": "o_dA8TM6qvlL"
      }
    },
    {
      "cell_type": "code",
      "source": [
        "dict={\"name\":\"alice\",\"alice\":30}\n",
        "dict['name']"
      ],
      "metadata": {
        "colab": {
          "base_uri": "https://localhost:8080/",
          "height": 36
        },
        "id": "ENIaetwBqz-e",
        "outputId": "9363136d-79d3-41c4-f5a0-5fe33e76330b"
      },
      "execution_count": 62,
      "outputs": [
        {
          "output_type": "execute_result",
          "data": {
            "text/plain": [
              "'alice'"
            ],
            "application/vnd.google.colaboratory.intrinsic+json": {
              "type": "string"
            }
          },
          "metadata": {},
          "execution_count": 62
        }
      ]
    },
    {
      "cell_type": "markdown",
      "source": [
        "##24.Write a code to remove the key 'age' from the dictionary [name: 'Bob', 'age: 22, city: New York].\n"
      ],
      "metadata": {
        "id": "0YVe-r7zrTw9"
      }
    },
    {
      "cell_type": "code",
      "source": [
        "dict={\"name\":\"bob\",\"age\": 22,\"city\":\"New York\"}\n",
        "dict.pop('age')\n",
        "print(dict)"
      ],
      "metadata": {
        "colab": {
          "base_uri": "https://localhost:8080/"
        },
        "id": "byyD3jiwrZCR",
        "outputId": "09076a76-5145-4340-cb4b-e620c339916c"
      },
      "execution_count": 63,
      "outputs": [
        {
          "output_type": "stream",
          "name": "stdout",
          "text": [
            "{'name': 'bob', 'city': 'New York'}\n"
          ]
        }
      ]
    },
    {
      "cell_type": "markdown",
      "source": [
        "##25.Write a code to check if the key \"city\" exists in the dictionary ['name': 'Alice', 'city: Paris).\n"
      ],
      "metadata": {
        "id": "S3lu4FIssOma"
      }
    },
    {
      "cell_type": "code",
      "source": [
        "my_dict = {'name': 'Alice', 'city': 'Paris'}\n",
        "if 'city' in my_dict:\n",
        "    print(\"Key 'city' exists in the dictionary.\")\n",
        "else:\n",
        "    print(\"Key 'city' does not exist in the dictionary.\")\n"
      ],
      "metadata": {
        "colab": {
          "base_uri": "https://localhost:8080/"
        },
        "id": "yeA6x0RPsTDz",
        "outputId": "7c485be9-e2b8-4d97-eab5-4aca846e3425"
      },
      "execution_count": 64,
      "outputs": [
        {
          "output_type": "stream",
          "name": "stdout",
          "text": [
            "Key 'city' exists in the dictionary.\n"
          ]
        }
      ]
    },
    {
      "cell_type": "markdown",
      "source": [
        "##26. Write a code to create a list, a tuple, and a dictionary, and print them all.\n"
      ],
      "metadata": {
        "id": "ztHNiFeIs5DM"
      }
    },
    {
      "cell_type": "code",
      "source": [
        "my_list = [1, 2, 3, 4, 5]\n",
        "my_tuple = ('apple', 'banana', 'cherry')\n",
        "my_dict = {'name': 'Alice', 'age': 30, 'city': 'Paris'}\n",
        "print(\"List:\", my_list)\n",
        "print(\"Tuple:\", my_tuple)\n",
        "print(\"Dictionary:\", my_dict)\n"
      ],
      "metadata": {
        "colab": {
          "base_uri": "https://localhost:8080/"
        },
        "id": "4Lvw0Au7tBL0",
        "outputId": "43c51669-cb27-4af5-d6f0-10c3c50568a4"
      },
      "execution_count": 65,
      "outputs": [
        {
          "output_type": "stream",
          "name": "stdout",
          "text": [
            "List: [1, 2, 3, 4, 5]\n",
            "Tuple: ('apple', 'banana', 'cherry')\n",
            "Dictionary: {'name': 'Alice', 'age': 30, 'city': 'Paris'}\n"
          ]
        }
      ]
    },
    {
      "cell_type": "markdown",
      "source": [
        "##27. Write a code to create a list of 5 random numbers between 1 and 100, sort it in ascending order, and print the result. (replaced)\n"
      ],
      "metadata": {
        "id": "3ILtQgl7teZc"
      }
    },
    {
      "cell_type": "code",
      "source": [
        "import random\n",
        "random_numbers = [random.randint(1, 100) for _ in range(5)]\n",
        "random_numbers.sort()\n",
        "print(\"Sorted random numbers:\", random_numbers)\n"
      ],
      "metadata": {
        "colab": {
          "base_uri": "https://localhost:8080/"
        },
        "id": "pu0siFG4u4JU",
        "outputId": "d7acfbd5-8b6b-43be-dd46-ae2f1ddf4fd8"
      },
      "execution_count": 75,
      "outputs": [
        {
          "output_type": "stream",
          "name": "stdout",
          "text": [
            "Sorted random numbers: [2, 21, 47, 58, 84]\n"
          ]
        }
      ]
    },
    {
      "cell_type": "markdown",
      "source": [
        "##28. Write a code to create a list with strings and print the element at the third index\n"
      ],
      "metadata": {
        "id": "jmk6Zu9VvE7O"
      }
    },
    {
      "cell_type": "code",
      "source": [
        "my_list = ['apple', 'banana', 'cherry', 'orange']\n",
        "print(\"Element at index 3:\", my_list[3])\n"
      ],
      "metadata": {
        "colab": {
          "base_uri": "https://localhost:8080/"
        },
        "id": "UBankU3CvLau",
        "outputId": "c08ec279-60ea-467e-ca17-e8afd0d6d97a"
      },
      "execution_count": 76,
      "outputs": [
        {
          "output_type": "stream",
          "name": "stdout",
          "text": [
            "Element at index 3: orange\n"
          ]
        }
      ]
    },
    {
      "cell_type": "markdown",
      "source": [
        "##29.Write a code to combine two dictionaries into one and print the result.\n",
        "\n"
      ],
      "metadata": {
        "id": "SSStieSFvlEF"
      }
    },
    {
      "cell_type": "code",
      "source": [
        "e_id={1,2,3,4}\n",
        "e_name={\"ajay\",\"bijay\",\"john\",\"alice\"}\n",
        "{e_id:e_name for e_id, e_name in zip(e_id, e_name)}"
      ],
      "metadata": {
        "colab": {
          "base_uri": "https://localhost:8080/"
        },
        "id": "vVEtwhzhvq22",
        "outputId": "a3e46813-0b4c-4e49-b8f4-7d7e77000bf6"
      },
      "execution_count": 80,
      "outputs": [
        {
          "output_type": "execute_result",
          "data": {
            "text/plain": [
              "{1: 'alice', 2: 'john', 3: 'ajay', 4: 'bijay'}"
            ]
          },
          "metadata": {},
          "execution_count": 80
        }
      ]
    },
    {
      "cell_type": "markdown",
      "source": [
        "##30.Write a code to convert a list of strings into a set."
      ],
      "metadata": {
        "id": "qGMV0vRqxfjG"
      }
    },
    {
      "cell_type": "code",
      "source": [
        "my_list = ['apple','banana','cherry','apple','banana']\n",
        "my_set = set(my_list)\n",
        "print(my_set)\n",
        "\n"
      ],
      "metadata": {
        "colab": {
          "base_uri": "https://localhost:8080/",
          "height": 193
        },
        "id": "XtfnULSby0IN",
        "outputId": "d930410e-f512-4998-eb4b-cb6c025f1fbc"
      },
      "execution_count": 102,
      "outputs": [
        {
          "output_type": "error",
          "ename": "TypeError",
          "evalue": "'set' object is not callable",
          "traceback": [
            "\u001b[0;31m---------------------------------------------------------------------------\u001b[0m",
            "\u001b[0;31mTypeError\u001b[0m                                 Traceback (most recent call last)",
            "\u001b[0;32m<ipython-input-102-a1e816864b79>\u001b[0m in \u001b[0;36m<cell line: 0>\u001b[0;34m()\u001b[0m\n\u001b[1;32m      1\u001b[0m \u001b[0mmy_list\u001b[0m \u001b[0;34m=\u001b[0m \u001b[0;34m[\u001b[0m\u001b[0;34m'apple'\u001b[0m\u001b[0;34m,\u001b[0m\u001b[0;34m'banana'\u001b[0m\u001b[0;34m,\u001b[0m\u001b[0;34m'cherry'\u001b[0m\u001b[0;34m,\u001b[0m\u001b[0;34m'apple'\u001b[0m\u001b[0;34m,\u001b[0m\u001b[0;34m'banana'\u001b[0m\u001b[0;34m]\u001b[0m\u001b[0;34m\u001b[0m\u001b[0;34m\u001b[0m\u001b[0m\n\u001b[0;32m----> 2\u001b[0;31m \u001b[0mmy_set\u001b[0m \u001b[0;34m=\u001b[0m \u001b[0mset\u001b[0m\u001b[0;34m(\u001b[0m\u001b[0mmy_list\u001b[0m\u001b[0;34m)\u001b[0m\u001b[0;34m\u001b[0m\u001b[0;34m\u001b[0m\u001b[0m\n\u001b[0m\u001b[1;32m      3\u001b[0m \u001b[0mprint\u001b[0m\u001b[0;34m(\u001b[0m\u001b[0mmy_set\u001b[0m\u001b[0;34m)\u001b[0m\u001b[0;34m\u001b[0m\u001b[0;34m\u001b[0m\u001b[0m\n\u001b[1;32m      4\u001b[0m \u001b[0;34m\u001b[0m\u001b[0m\n",
            "\u001b[0;31mTypeError\u001b[0m: 'set' object is not callable"
          ]
        }
      ]
    }
  ]
}